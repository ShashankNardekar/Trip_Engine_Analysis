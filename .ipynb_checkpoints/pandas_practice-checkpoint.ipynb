{
 "cells": [
  {
   "cell_type": "code",
   "execution_count": 14,
   "id": "2e82a287-9d37-4675-9c21-9096b16ece78",
   "metadata": {},
   "outputs": [],
   "source": [
    "import pandas as pd\n",
    "import numpy as np"
   ]
  },
  {
   "cell_type": "code",
   "execution_count": 2,
   "id": "71fcdc32-45c5-42f7-b1ff-50df7bcf1ac4",
   "metadata": {},
   "outputs": [],
   "source": [
    "df = pd.read_csv('employee_dataset.csv')"
   ]
  },
  {
   "cell_type": "code",
   "execution_count": 3,
   "id": "80fcdfe7-7326-40e0-b7a5-b3d26f6b5ba6",
   "metadata": {},
   "outputs": [
    {
     "data": {
      "text/plain": [
       "(300000, 8)"
      ]
     },
     "execution_count": 3,
     "metadata": {},
     "output_type": "execute_result"
    }
   ],
   "source": [
    "df.shape"
   ]
  },
  {
   "cell_type": "code",
   "execution_count": 4,
   "id": "558e37ad-8e61-45ea-8a37-a9f9fa1da7a1",
   "metadata": {},
   "outputs": [
    {
     "data": {
      "text/plain": [
       "Index(['Name', 'Company_Name', 'Employee_Job_Title', 'Employee_City',\n",
       "       'Employee_Country', 'Employee_Salary', 'Employment_Status',\n",
       "       'Employee_Rating'],\n",
       "      dtype='object')"
      ]
     },
     "execution_count": 4,
     "metadata": {},
     "output_type": "execute_result"
    }
   ],
   "source": [
    "df.columns"
   ]
  },
  {
   "cell_type": "code",
   "execution_count": 5,
   "id": "451a903c-3b66-417a-a4eb-25bb36deb025",
   "metadata": {},
   "outputs": [
    {
     "data": {
      "text/plain": [
       "500224.20772666665"
      ]
     },
     "execution_count": 5,
     "metadata": {},
     "output_type": "execute_result"
    }
   ],
   "source": [
    "df['Employee_Salary'].mean()"
   ]
  },
  {
   "cell_type": "code",
   "execution_count": 7,
   "id": "c5ee34fb-e39f-4cd1-92bb-837e5acc641a",
   "metadata": {},
   "outputs": [
    {
     "data": {
      "text/plain": [
       "159288"
      ]
     },
     "execution_count": 7,
     "metadata": {},
     "output_type": "execute_result"
    }
   ],
   "source": [
    "df[df['Company_Name']=='Nichols-James'].size"
   ]
  },
  {
   "cell_type": "code",
   "execution_count": 11,
   "id": "cbd1692b-bfe9-41d8-b431-86bde7d8f399",
   "metadata": {},
   "outputs": [
    {
     "data": {
      "text/plain": [
       "min            0.0\n",
       "max       999990.0\n",
       "median    500780.0\n",
       "Name: Employee_Salary, dtype: float64"
      ]
     },
     "execution_count": 11,
     "metadata": {},
     "output_type": "execute_result"
    }
   ],
   "source": [
    "df['Employee_Salary'].agg(['min','max','median'])"
   ]
  },
  {
   "cell_type": "code",
   "execution_count": 30,
   "id": "77f29b7d-4c5f-4031-820c-6643f7a956b0",
   "metadata": {},
   "outputs": [
    {
     "data": {
      "text/plain": [
       "('Scott Inc', 'Wallace, Smith and Shepard')"
      ]
     },
     "execution_count": 30,
     "metadata": {},
     "output_type": "execute_result"
    }
   ],
   "source": [
    "# company with most employees\n",
    "# company with least employees\n",
    "df.groupby(by=['Company_Name']).size().idxmax(),df.groupby(by=['Company_Name']).size().idxmin()"
   ]
  },
  {
   "cell_type": "code",
   "execution_count": 35,
   "id": "82717cdb-0d05-4750-995d-e6c8ef46eee7",
   "metadata": {},
   "outputs": [
    {
     "data": {
      "text/plain": [
       "Name                          Anna Lawson\n",
       "Company_Name                 Taylor-Ramos\n",
       "Employee_Job_Title    Production engineer\n",
       "Employee_City                 Kristaburgh\n",
       "Employee_Country                  Lesotho\n",
       "Employee_Salary                    999990\n",
       "Employment_Status               Full Time\n",
       "Employee_Rating                       4.0\n",
       "Name: 70356, dtype: object"
      ]
     },
     "execution_count": 35,
     "metadata": {},
     "output_type": "execute_result"
    }
   ],
   "source": [
    "df.loc[df['Employee_Salary'].idxmax()]"
   ]
  },
  {
   "cell_type": "code",
   "execution_count": 36,
   "id": "afb995d6-067b-46bd-871e-69db2a310008",
   "metadata": {},
   "outputs": [
    {
     "data": {
      "text/plain": [
       "'White, Mcclain and Cobb'"
      ]
     },
     "execution_count": 36,
     "metadata": {},
     "output_type": "execute_result"
    }
   ],
   "source": [
    "# Print the Company_Name with most number of employees in 'Wardfort' city.\n",
    "df[df['Employee_City']=='Wardfort'].groupby(by=['Company_Name']).size().idxmax()"
   ]
  },
  {
   "cell_type": "code",
   "execution_count": 37,
   "id": "a5d38214-8409-4051-8809-61dc98068271",
   "metadata": {},
   "outputs": [
    {
     "name": "stdout",
     "output_type": "stream",
     "text": [
      "<class 'pandas.core.frame.DataFrame'>\n",
      "RangeIndex: 300000 entries, 0 to 299999\n",
      "Data columns (total 8 columns):\n",
      " #   Column              Non-Null Count   Dtype  \n",
      "---  ------              --------------   -----  \n",
      " 0   Name                300000 non-null  object \n",
      " 1   Company_Name        300000 non-null  object \n",
      " 2   Employee_Job_Title  300000 non-null  object \n",
      " 3   Employee_City       300000 non-null  object \n",
      " 4   Employee_Country    300000 non-null  object \n",
      " 5   Employee_Salary     300000 non-null  float64\n",
      " 6   Employment_Status   300000 non-null  object \n",
      " 7   Employee_Rating     300000 non-null  float64\n",
      "dtypes: float64(2), object(6)\n",
      "memory usage: 18.3+ MB\n"
     ]
    }
   ],
   "source": [
    "# Change the Data type of 'Employee_Salary' column to float\n",
    "df['Employee_Salary'] = df['Employee_Salary'].astype(float)\n",
    "df.info()"
   ]
  },
  {
   "cell_type": "code",
   "execution_count": 42,
   "id": "206107e4-fdb7-478d-9c57-3b8fb2c30797",
   "metadata": {},
   "outputs": [
    {
     "data": {
      "text/plain": [
       "'Scott Inc'"
      ]
     },
     "execution_count": 42,
     "metadata": {},
     "output_type": "execute_result"
    }
   ],
   "source": [
    "# Print the Company_Name with the most number of Full-time Employees. \n",
    "df[df['Employment_Status']=='Full Time'].groupby(by=['Company_Name']).size().idxmax()"
   ]
  },
  {
   "cell_type": "code",
   "execution_count": 44,
   "id": "fc287c0b-6f2d-45b2-922d-2fd6efb06df2",
   "metadata": {},
   "outputs": [
    {
     "data": {
      "text/plain": [
       "'Matthews Inc'"
      ]
     },
     "execution_count": 44,
     "metadata": {},
     "output_type": "execute_result"
    }
   ],
   "source": [
    "#  Print the Company_Name with the highest average 'Employee_Rating'. \n",
    "df.groupby(by=['Company_Name'])['Employee_Rating'].mean().idxmax()"
   ]
  },
  {
   "cell_type": "code",
   "execution_count": 50,
   "id": "d9ea0117-b4ea-40c1-b82b-a76aff8c86ff",
   "metadata": {},
   "outputs": [
    {
     "data": {
      "text/plain": [
       "482048"
      ]
     },
     "execution_count": 50,
     "metadata": {},
     "output_type": "execute_result"
    }
   ],
   "source": [
    "# Print the number of employees working in 'Ricardomouth' and 'Kristaburgh' location combined\n",
    "df[(df['Employee_City']=='Ricardomouth')|(df['Employee_City']=='Kristaburgh')].size"
   ]
  },
  {
   "cell_type": "code",
   "execution_count": 64,
   "id": "82e0328a-8cfe-410f-aab6-203d836906c8",
   "metadata": {},
   "outputs": [
    {
     "data": {
      "text/plain": [
       "array(['Campos, Reynolds and Mccormick', 'White, Mcclain and Cobb',\n",
       "       'Thomas-Spencer', 'Taylor-Ramos'], dtype=object)"
      ]
     },
     "execution_count": 64,
     "metadata": {},
     "output_type": "execute_result"
    }
   ],
   "source": [
    "# Print the distinct Company_Name corresponding to the 5 highest paid employees in the dataset.\n",
    "df['salary_rank'] = df['Employee_Salary'].rank(ascending=False)\n",
    "df[df['salary_rank'] <= 5]['Company_Name'].unique()"
   ]
  },
  {
   "cell_type": "code",
   "execution_count": 67,
   "id": "55bdb931-ddd1-4fe9-805c-b555ceccf0c4",
   "metadata": {},
   "outputs": [
    {
     "data": {
      "text/plain": [
       "0"
      ]
     },
     "execution_count": 67,
     "metadata": {},
     "output_type": "execute_result"
    }
   ],
   "source": [
    "# Check if there are any duplicate rows in the DataFrame. \n",
    "len(df[df.duplicated()])"
   ]
  },
  {
   "cell_type": "code",
   "execution_count": 69,
   "id": "5ead6672-b719-4cc9-96ea-a4517feb9895",
   "metadata": {},
   "outputs": [
    {
     "data": {
      "text/plain": [
       "Name                  False\n",
       "Company_Name          False\n",
       "Employee_Job_Title    False\n",
       "Employee_City         False\n",
       "Employee_Country      False\n",
       "Employee_Salary       False\n",
       "Employment_Status     False\n",
       "Employee_Rating       False\n",
       "salary_rank           False\n",
       "dtype: bool"
      ]
     },
     "execution_count": 69,
     "metadata": {},
     "output_type": "execute_result"
    }
   ],
   "source": [
    "# Check if any of the columns has NaN values. \n",
    "df.isna().any()"
   ]
  },
  {
   "cell_type": "code",
   "execution_count": 70,
   "id": "9f01f968-4e68-4b1e-94b7-7955d5289957",
   "metadata": {},
   "outputs": [
    {
     "data": {
      "text/plain": [
       "Name                   object\n",
       "Company_Name           object\n",
       "Employee_Job_Title     object\n",
       "Employee_City          object\n",
       "Employee_Country       object\n",
       "Employee_Salary       float64\n",
       "Employment_Status      object\n",
       "Employee_Rating       float64\n",
       "salary_rank           float64\n",
       "dtype: object"
      ]
     },
     "execution_count": 70,
     "metadata": {},
     "output_type": "execute_result"
    }
   ],
   "source": [
    "# Print the data type of every column in the DataFrame.\n",
    "df.dtypes"
   ]
  },
  {
   "cell_type": "code",
   "execution_count": 77,
   "id": "01a22520-601c-4c58-809e-8783db702384",
   "metadata": {},
   "outputs": [
    {
     "data": {
      "text/plain": [
       "155748    Steven Osborne\n",
       "Name: Name, dtype: object"
      ]
     },
     "execution_count": 77,
     "metadata": {},
     "output_type": "execute_result"
    }
   ],
   "source": [
    "# Find the employee which has the maximum salary among the ones with  the minimum Employee_Rating \n",
    "tmp_df = df[df['Employee_Rating'] == df['Employee_Rating'].min()]\n",
    "tmp_df[tmp_df['salary_rank']==tmp_df['salary_rank'].max()]['Name']"
   ]
  },
  {
   "cell_type": "code",
   "execution_count": 85,
   "id": "32a0a286-273e-4465-ae13-2d4ed77abc23",
   "metadata": {},
   "outputs": [
    {
     "data": {
      "text/plain": [
       "17940"
      ]
     },
     "execution_count": 85,
     "metadata": {},
     "output_type": "execute_result"
    }
   ],
   "source": [
    "# Print the number of employees whose last name starts with the letter 'R'. \n",
    "len(df[df['Name'].str.startswith('R')])"
   ]
  },
  {
   "cell_type": "code",
   "execution_count": 100,
   "id": "073dcfdd-11e6-45c0-802a-bb62ded988ca",
   "metadata": {},
   "outputs": [
    {
     "data": {
      "text/html": [
       "<div>\n",
       "<style scoped>\n",
       "    .dataframe tbody tr th:only-of-type {\n",
       "        vertical-align: middle;\n",
       "    }\n",
       "\n",
       "    .dataframe tbody tr th {\n",
       "        vertical-align: top;\n",
       "    }\n",
       "\n",
       "    .dataframe thead th {\n",
       "        text-align: right;\n",
       "    }\n",
       "</style>\n",
       "<table border=\"1\" class=\"dataframe\">\n",
       "  <thead>\n",
       "    <tr style=\"text-align: right;\">\n",
       "      <th></th>\n",
       "      <th>Name</th>\n",
       "      <th>Company_Name</th>\n",
       "      <th>Employee_Job_Title</th>\n",
       "      <th>Employee_City</th>\n",
       "      <th>Employee_Country</th>\n",
       "      <th>Employee_Salary</th>\n",
       "      <th>Employment_Status</th>\n",
       "      <th>Employee_Rating</th>\n",
       "      <th>salary_rank</th>\n",
       "    </tr>\n",
       "  </thead>\n",
       "  <tbody>\n",
       "    <tr>\n",
       "      <th>0</th>\n",
       "      <td>Spencer Adkins</td>\n",
       "      <td>James and Sons</td>\n",
       "      <td>Equities trader</td>\n",
       "      <td>New Russellton</td>\n",
       "      <td>Palestinian Territory</td>\n",
       "      <td>321520.0</td>\n",
       "      <td>Full Time</td>\n",
       "      <td>3.9</td>\n",
       "      <td>203737.5</td>\n",
       "    </tr>\n",
       "    <tr>\n",
       "      <th>3</th>\n",
       "      <td>Brad Scott</td>\n",
       "      <td>Johnston, Fleming and Tanner</td>\n",
       "      <td>Production engineer</td>\n",
       "      <td>West Jamesview</td>\n",
       "      <td>Syrian Arab Republic</td>\n",
       "      <td>116400.0</td>\n",
       "      <td>Full Time</td>\n",
       "      <td>3.1</td>\n",
       "      <td>265264.0</td>\n",
       "    </tr>\n",
       "    <tr>\n",
       "      <th>6</th>\n",
       "      <td>Kelly Brown</td>\n",
       "      <td>Andrade LLC</td>\n",
       "      <td>Naval architect</td>\n",
       "      <td>Wardfort</td>\n",
       "      <td>Aruba</td>\n",
       "      <td>711410.0</td>\n",
       "      <td>Full Time</td>\n",
       "      <td>2.0</td>\n",
       "      <td>86289.0</td>\n",
       "    </tr>\n",
       "    <tr>\n",
       "      <th>9</th>\n",
       "      <td>Michael Edwards</td>\n",
       "      <td>Campos, Reynolds and Mccormick</td>\n",
       "      <td>Ergonomist</td>\n",
       "      <td>New Cindychester</td>\n",
       "      <td>Lao People's Democratic Republic</td>\n",
       "      <td>516950.0</td>\n",
       "      <td>Full Time</td>\n",
       "      <td>2.3</td>\n",
       "      <td>145194.0</td>\n",
       "    </tr>\n",
       "    <tr>\n",
       "      <th>12</th>\n",
       "      <td>Tiffany Galvan</td>\n",
       "      <td>Campos, Reynolds and Mccormick</td>\n",
       "      <td>Diplomatic Services operational officer</td>\n",
       "      <td>West Jamesview</td>\n",
       "      <td>Niger</td>\n",
       "      <td>786430.0</td>\n",
       "      <td>Intern</td>\n",
       "      <td>3.6</td>\n",
       "      <td>64068.5</td>\n",
       "    </tr>\n",
       "    <tr>\n",
       "      <th>...</th>\n",
       "      <td>...</td>\n",
       "      <td>...</td>\n",
       "      <td>...</td>\n",
       "      <td>...</td>\n",
       "      <td>...</td>\n",
       "      <td>...</td>\n",
       "      <td>...</td>\n",
       "      <td>...</td>\n",
       "      <td>...</td>\n",
       "    </tr>\n",
       "    <tr>\n",
       "      <th>299985</th>\n",
       "      <td>Chase Stevens</td>\n",
       "      <td>Nelson-Li</td>\n",
       "      <td>Energy manager</td>\n",
       "      <td>Whitakerbury</td>\n",
       "      <td>Northern Mariana Islands</td>\n",
       "      <td>590590.0</td>\n",
       "      <td>Full Time</td>\n",
       "      <td>2.6</td>\n",
       "      <td>122864.0</td>\n",
       "    </tr>\n",
       "    <tr>\n",
       "      <th>299988</th>\n",
       "      <td>Kenneth Hurley</td>\n",
       "      <td>Scott Inc</td>\n",
       "      <td>Make</td>\n",
       "      <td>New Russellton</td>\n",
       "      <td>Russian Federation</td>\n",
       "      <td>211180.0</td>\n",
       "      <td>Full Time</td>\n",
       "      <td>3.9</td>\n",
       "      <td>236810.0</td>\n",
       "    </tr>\n",
       "    <tr>\n",
       "      <th>299991</th>\n",
       "      <td>William Rodriguez</td>\n",
       "      <td>Scott Inc</td>\n",
       "      <td>Ergonomist</td>\n",
       "      <td>Whiteside</td>\n",
       "      <td>New Zealand</td>\n",
       "      <td>214400.0</td>\n",
       "      <td>Full Time</td>\n",
       "      <td>1.5</td>\n",
       "      <td>235786.0</td>\n",
       "    </tr>\n",
       "    <tr>\n",
       "      <th>299994</th>\n",
       "      <td>Kelly Bennett</td>\n",
       "      <td>White, Mcclain and Cobb</td>\n",
       "      <td>Radiographer, therapeutic</td>\n",
       "      <td>Wardfort</td>\n",
       "      <td>Fiji</td>\n",
       "      <td>182270.0</td>\n",
       "      <td>Full Time</td>\n",
       "      <td>3.6</td>\n",
       "      <td>245446.5</td>\n",
       "    </tr>\n",
       "    <tr>\n",
       "      <th>299997</th>\n",
       "      <td>Lynn Wilson</td>\n",
       "      <td>Nichols-James</td>\n",
       "      <td>Administrator</td>\n",
       "      <td>New Cindychester</td>\n",
       "      <td>Bolivia</td>\n",
       "      <td>802830.0</td>\n",
       "      <td>Full Time</td>\n",
       "      <td>0.6</td>\n",
       "      <td>59097.0</td>\n",
       "    </tr>\n",
       "  </tbody>\n",
       "</table>\n",
       "<p>100000 rows × 9 columns</p>\n",
       "</div>"
      ],
      "text/plain": [
       "                     Name                    Company_Name  \\\n",
       "0          Spencer Adkins                  James and Sons   \n",
       "3              Brad Scott    Johnston, Fleming and Tanner   \n",
       "6             Kelly Brown                     Andrade LLC   \n",
       "9         Michael Edwards  Campos, Reynolds and Mccormick   \n",
       "12         Tiffany Galvan  Campos, Reynolds and Mccormick   \n",
       "...                   ...                             ...   \n",
       "299985      Chase Stevens                       Nelson-Li   \n",
       "299988     Kenneth Hurley                       Scott Inc   \n",
       "299991  William Rodriguez                       Scott Inc   \n",
       "299994      Kelly Bennett         White, Mcclain and Cobb   \n",
       "299997        Lynn Wilson                   Nichols-James   \n",
       "\n",
       "                             Employee_Job_Title     Employee_City  \\\n",
       "0                               Equities trader    New Russellton   \n",
       "3                           Production engineer    West Jamesview   \n",
       "6                               Naval architect          Wardfort   \n",
       "9                                    Ergonomist  New Cindychester   \n",
       "12      Diplomatic Services operational officer    West Jamesview   \n",
       "...                                         ...               ...   \n",
       "299985                           Energy manager      Whitakerbury   \n",
       "299988                                     Make    New Russellton   \n",
       "299991                               Ergonomist         Whiteside   \n",
       "299994                Radiographer, therapeutic          Wardfort   \n",
       "299997                            Administrator  New Cindychester   \n",
       "\n",
       "                        Employee_Country  Employee_Salary Employment_Status  \\\n",
       "0                  Palestinian Territory         321520.0         Full Time   \n",
       "3                   Syrian Arab Republic         116400.0         Full Time   \n",
       "6                                  Aruba         711410.0         Full Time   \n",
       "9       Lao People's Democratic Republic         516950.0         Full Time   \n",
       "12                                 Niger         786430.0            Intern   \n",
       "...                                  ...              ...               ...   \n",
       "299985          Northern Mariana Islands         590590.0         Full Time   \n",
       "299988                Russian Federation         211180.0         Full Time   \n",
       "299991                       New Zealand         214400.0         Full Time   \n",
       "299994                              Fiji         182270.0         Full Time   \n",
       "299997                           Bolivia         802830.0         Full Time   \n",
       "\n",
       "        Employee_Rating  salary_rank  \n",
       "0                   3.9     203737.5  \n",
       "3                   3.1     265264.0  \n",
       "6                   2.0      86289.0  \n",
       "9                   2.3     145194.0  \n",
       "12                  3.6      64068.5  \n",
       "...                 ...          ...  \n",
       "299985              2.6     122864.0  \n",
       "299988              3.9     236810.0  \n",
       "299991              1.5     235786.0  \n",
       "299994              3.6     245446.5  \n",
       "299997              0.6      59097.0  \n",
       "\n",
       "[100000 rows x 9 columns]"
      ]
     },
     "execution_count": 100,
     "metadata": {},
     "output_type": "execute_result"
    }
   ],
   "source": [
    "# Starting from the first record, print every third record in the DataFrame.\n",
    "df.iloc[::3]"
   ]
  },
  {
   "cell_type": "code",
   "execution_count": 102,
   "id": "d262f631-faf1-42e0-b8cb-c02b9439241e",
   "metadata": {},
   "outputs": [
    {
     "data": {
      "text/plain": [
       "Company_Name\n",
       "Andrade LLC                       497237.159385\n",
       "Baker, Allen and Edwards          498032.358445\n",
       "Bullock-Carrillo                  499603.804865\n",
       "Campos, Reynolds and Mccormick    503528.982687\n",
       "James and Sons                    503581.015754\n",
       "Johnston, Fleming and Tanner      500579.128010\n",
       "Marshall-Holloway                 502314.169445\n",
       "Matthews Inc                      501640.159488\n",
       "Nelson-Li                         500569.824558\n",
       "Nichols-James                     497881.232334\n",
       "Scott Inc                         500491.809024\n",
       "Taylor-Ramos                      498747.292516\n",
       "Thomas-Spencer                    499350.850164\n",
       "Wallace, Smith and Shepard        500807.608810\n",
       "White, Mcclain and Cobb           499083.493806\n",
       "Name: Employee_Salary, dtype: float64"
      ]
     },
     "execution_count": 102,
     "metadata": {},
     "output_type": "execute_result"
    }
   ],
   "source": [
    "# Find the average salary for every company.\n",
    "df.groupby(by=['Company_Name'])['Employee_Salary'].mean()"
   ]
  },
  {
   "cell_type": "code",
   "execution_count": 104,
   "id": "4b4813c5-fd6c-4db8-987c-495b7f3abe67",
   "metadata": {},
   "outputs": [
    {
     "data": {
      "text/html": [
       "<div>\n",
       "<style scoped>\n",
       "    .dataframe tbody tr th:only-of-type {\n",
       "        vertical-align: middle;\n",
       "    }\n",
       "\n",
       "    .dataframe tbody tr th {\n",
       "        vertical-align: top;\n",
       "    }\n",
       "\n",
       "    .dataframe thead th {\n",
       "        text-align: right;\n",
       "    }\n",
       "</style>\n",
       "<table border=\"1\" class=\"dataframe\">\n",
       "  <thead>\n",
       "    <tr style=\"text-align: right;\">\n",
       "      <th></th>\n",
       "      <th>Employee_Salary</th>\n",
       "      <th>Employee_Rating</th>\n",
       "    </tr>\n",
       "    <tr>\n",
       "      <th>Company_Name</th>\n",
       "      <th></th>\n",
       "      <th></th>\n",
       "    </tr>\n",
       "  </thead>\n",
       "  <tbody>\n",
       "    <tr>\n",
       "      <th>Andrade LLC</th>\n",
       "      <td>497237.159385</td>\n",
       "      <td>2.498218</td>\n",
       "    </tr>\n",
       "    <tr>\n",
       "      <th>Baker, Allen and Edwards</th>\n",
       "      <td>498032.358445</td>\n",
       "      <td>2.504795</td>\n",
       "    </tr>\n",
       "    <tr>\n",
       "      <th>Bullock-Carrillo</th>\n",
       "      <td>499603.804865</td>\n",
       "      <td>2.502014</td>\n",
       "    </tr>\n",
       "    <tr>\n",
       "      <th>Campos, Reynolds and Mccormick</th>\n",
       "      <td>503528.982687</td>\n",
       "      <td>2.506288</td>\n",
       "    </tr>\n",
       "    <tr>\n",
       "      <th>James and Sons</th>\n",
       "      <td>503581.015754</td>\n",
       "      <td>2.505023</td>\n",
       "    </tr>\n",
       "    <tr>\n",
       "      <th>Johnston, Fleming and Tanner</th>\n",
       "      <td>500579.128010</td>\n",
       "      <td>2.513159</td>\n",
       "    </tr>\n",
       "    <tr>\n",
       "      <th>Marshall-Holloway</th>\n",
       "      <td>502314.169445</td>\n",
       "      <td>2.504900</td>\n",
       "    </tr>\n",
       "    <tr>\n",
       "      <th>Matthews Inc</th>\n",
       "      <td>501640.159488</td>\n",
       "      <td>2.525454</td>\n",
       "    </tr>\n",
       "    <tr>\n",
       "      <th>Nelson-Li</th>\n",
       "      <td>500569.824558</td>\n",
       "      <td>2.504649</td>\n",
       "    </tr>\n",
       "    <tr>\n",
       "      <th>Nichols-James</th>\n",
       "      <td>497881.232334</td>\n",
       "      <td>2.488554</td>\n",
       "    </tr>\n",
       "    <tr>\n",
       "      <th>Scott Inc</th>\n",
       "      <td>500491.809024</td>\n",
       "      <td>2.515993</td>\n",
       "    </tr>\n",
       "    <tr>\n",
       "      <th>Taylor-Ramos</th>\n",
       "      <td>498747.292516</td>\n",
       "      <td>2.513150</td>\n",
       "    </tr>\n",
       "    <tr>\n",
       "      <th>Thomas-Spencer</th>\n",
       "      <td>499350.850164</td>\n",
       "      <td>2.505114</td>\n",
       "    </tr>\n",
       "    <tr>\n",
       "      <th>Wallace, Smith and Shepard</th>\n",
       "      <td>500807.608810</td>\n",
       "      <td>2.497402</td>\n",
       "    </tr>\n",
       "    <tr>\n",
       "      <th>White, Mcclain and Cobb</th>\n",
       "      <td>499083.493806</td>\n",
       "      <td>2.504047</td>\n",
       "    </tr>\n",
       "  </tbody>\n",
       "</table>\n",
       "</div>"
      ],
      "text/plain": [
       "                                Employee_Salary  Employee_Rating\n",
       "Company_Name                                                    \n",
       "Andrade LLC                       497237.159385         2.498218\n",
       "Baker, Allen and Edwards          498032.358445         2.504795\n",
       "Bullock-Carrillo                  499603.804865         2.502014\n",
       "Campos, Reynolds and Mccormick    503528.982687         2.506288\n",
       "James and Sons                    503581.015754         2.505023\n",
       "Johnston, Fleming and Tanner      500579.128010         2.513159\n",
       "Marshall-Holloway                 502314.169445         2.504900\n",
       "Matthews Inc                      501640.159488         2.525454\n",
       "Nelson-Li                         500569.824558         2.504649\n",
       "Nichols-James                     497881.232334         2.488554\n",
       "Scott Inc                         500491.809024         2.515993\n",
       "Taylor-Ramos                      498747.292516         2.513150\n",
       "Thomas-Spencer                    499350.850164         2.505114\n",
       "Wallace, Smith and Shepard        500807.608810         2.497402\n",
       "White, Mcclain and Cobb           499083.493806         2.504047"
      ]
     },
     "execution_count": 104,
     "metadata": {},
     "output_type": "execute_result"
    }
   ],
   "source": [
    "# Find the average salary and average rating for every company in a single line.\n",
    "df.groupby(by=['Company_Name']).agg({'Employee_Salary':'mean','Employee_Rating':'mean'})"
   ]
  },
  {
   "cell_type": "code",
   "execution_count": 105,
   "id": "8b0a30ba-61f9-4d89-ac03-9a802b20c1bf",
   "metadata": {},
   "outputs": [
    {
     "data": {
      "text/plain": [
       "Company_Name\n",
       "Andrade LLC                       10\n",
       "Baker, Allen and Edwards          10\n",
       "Bullock-Carrillo                  10\n",
       "Campos, Reynolds and Mccormick    10\n",
       "James and Sons                    10\n",
       "Johnston, Fleming and Tanner      10\n",
       "Marshall-Holloway                 10\n",
       "Matthews Inc                      10\n",
       "Nelson-Li                         10\n",
       "Nichols-James                     10\n",
       "Scott Inc                         10\n",
       "Taylor-Ramos                      10\n",
       "Thomas-Spencer                    10\n",
       "Wallace, Smith and Shepard        10\n",
       "White, Mcclain and Cobb           10\n",
       "Name: Employee_City, dtype: int64"
      ]
     },
     "execution_count": 105,
     "metadata": {},
     "output_type": "execute_result"
    }
   ],
   "source": [
    "df.groupby(by=['Company_Name'])['Employee_City'].nunique()"
   ]
  },
  {
   "cell_type": "code",
   "execution_count": 112,
   "id": "9840e917-bbc0-459a-a912-79fb6f738464",
   "metadata": {},
   "outputs": [
    {
     "data": {
      "text/plain": [
       "Company_Name\n",
       "Andrade LLC                       (Andrade LLC, Diplomatic Services operational ...\n",
       "Baker, Allen and Edwards          (Baker, Allen and Edwards, Diplomatic Services...\n",
       "Bullock-Carrillo                  (Bullock-Carrillo, Diplomatic Services operati...\n",
       "Campos, Reynolds and Mccormick    (Campos, Reynolds and Mccormick, Diplomatic Se...\n",
       "James and Sons                    (James and Sons, Diplomatic Services operation...\n",
       "Johnston, Fleming and Tanner      (Johnston, Fleming and Tanner, Diplomatic Serv...\n",
       "Marshall-Holloway                 (Marshall-Holloway, Diplomatic Services operat...\n",
       "Matthews Inc                      (Matthews Inc, Diplomatic Services operational...\n",
       "Nelson-Li                         (Nelson-Li, Diplomatic Services operational of...\n",
       "Nichols-James                     (Nichols-James, Diplomatic Services operationa...\n",
       "Scott Inc                         (Scott Inc, Diplomatic Services operational of...\n",
       "Taylor-Ramos                      (Taylor-Ramos, Diplomatic Services operational...\n",
       "Thomas-Spencer                    (Thomas-Spencer, Diplomatic Services operation...\n",
       "Wallace, Smith and Shepard        (Wallace, Smith and Shepard, Diplomatic Servic...\n",
       "White, Mcclain and Cobb           (White, Mcclain and Cobb, Diplomatic Services ...\n",
       "dtype: object"
      ]
     },
     "execution_count": 112,
     "metadata": {},
     "output_type": "execute_result"
    }
   ],
   "source": [
    "# Print the job title with the most employees corresponding to every company. \n",
    "df.groupby(by=['Company_Name','Employee_Job_Title']).size().groupby('Company_Name').idxmax()"
   ]
  },
  {
   "cell_type": "code",
   "execution_count": null,
   "id": "7ff2697e-a429-480f-9fae-9bb0a48af8c8",
   "metadata": {},
   "outputs": [],
   "source": []
  },
  {
   "cell_type": "code",
   "execution_count": 116,
   "id": "7268e538-178e-4812-861b-62efaa25ed26",
   "metadata": {},
   "outputs": [
    {
     "data": {
      "text/plain": [
       "0       77.0\n",
       "1      269.0\n",
       "2      100.5\n",
       "3      278.0\n",
       "4      216.0\n",
       "       ...  \n",
       "280    198.0\n",
       "281    141.0\n",
       "282    191.0\n",
       "283    111.5\n",
       "284    131.5\n",
       "Name: 0, Length: 285, dtype: float64"
      ]
     },
     "execution_count": 116,
     "metadata": {},
     "output_type": "execute_result"
    }
   ],
   "source": [
    "df.groupby(by=['Company_Name','Employee_Job_Title']).size().reset_index()[0].rank()"
   ]
  },
  {
   "cell_type": "code",
   "execution_count": null,
   "id": "273dda59-bd23-4f8f-8804-e0357ecd5cb5",
   "metadata": {},
   "outputs": [],
   "source": [
    "# using apply\n",
    "df['AgeCategory'] = df['Age'].apply(lambda x: '30+' if x >= 30 else '-30')"
   ]
  },
  {
   "cell_type": "code",
   "execution_count": null,
   "id": "a258f860-17e0-44db-9a6a-065f752a0ed4",
   "metadata": {},
   "outputs": [],
   "source": [
    "# using map function\n",
    "\n",
    "# Define a custom function for age categorization\n",
    "def categorize_age(age):\n",
    "    if age < 30:\n",
    "        return 'Youth'\n",
    "    elif age <= 50:\n",
    "        return 'Middle Age'\n",
    "    else:\n",
    "        return 'Senior'\n",
    "\n",
    "# Use map() to apply the custom function to the 'Age' column\n",
    "df_csv['AgeGroup'] = df_csv['Age'].map(categorize_age)"
   ]
  },
  {
   "cell_type": "code",
   "execution_count": 121,
   "id": "74c24c40-f47e-448a-9af2-66cbd7173b7c",
   "metadata": {},
   "outputs": [
    {
     "data": {
      "text/plain": [
       "Name                  False\n",
       "Company_Name          False\n",
       "Employee_Job_Title    False\n",
       "Employee_City         False\n",
       "Employee_Country      False\n",
       "Employee_Salary       False\n",
       "Employment_Status     False\n",
       "Employee_Rating       False\n",
       "salary_rank           False\n",
       "dtype: bool"
      ]
     },
     "execution_count": 121,
     "metadata": {},
     "output_type": "execute_result"
    }
   ],
   "source": [
    "# Dropping rows with any missing values\n",
    "df_dropped = df.dropna()"
   ]
  },
  {
   "cell_type": "code",
   "execution_count": null,
   "id": "300b3340-15a2-4054-81c3-081af14c357e",
   "metadata": {},
   "outputs": [],
   "source": [
    "# Creating a date column with date range and defining frequency\n",
    "dates = pd.date_range(start='2020-01-01', end='2020-12-31', freq='M')"
   ]
  },
  {
   "cell_type": "code",
   "execution_count": 127,
   "id": "13403885-a173-4fbc-9075-377531be571e",
   "metadata": {},
   "outputs": [
    {
     "data": {
      "text/html": [
       "<div>\n",
       "<style scoped>\n",
       "    .dataframe tbody tr th:only-of-type {\n",
       "        vertical-align: middle;\n",
       "    }\n",
       "\n",
       "    .dataframe tbody tr th {\n",
       "        vertical-align: top;\n",
       "    }\n",
       "\n",
       "    .dataframe thead tr th {\n",
       "        text-align: left;\n",
       "    }\n",
       "\n",
       "    .dataframe thead tr:last-of-type th {\n",
       "        text-align: right;\n",
       "    }\n",
       "</style>\n",
       "<table border=\"1\" class=\"dataframe\">\n",
       "  <thead>\n",
       "    <tr>\n",
       "      <th></th>\n",
       "      <th colspan=\"3\" halign=\"left\">Employee_Salary</th>\n",
       "    </tr>\n",
       "    <tr>\n",
       "      <th></th>\n",
       "      <th>mean</th>\n",
       "      <th>min</th>\n",
       "      <th>max</th>\n",
       "    </tr>\n",
       "    <tr>\n",
       "      <th>Company_Name</th>\n",
       "      <th></th>\n",
       "      <th></th>\n",
       "      <th></th>\n",
       "    </tr>\n",
       "  </thead>\n",
       "  <tbody>\n",
       "    <tr>\n",
       "      <th>Andrade LLC</th>\n",
       "      <td>497237.159385</td>\n",
       "      <td>40.0</td>\n",
       "      <td>999850.0</td>\n",
       "    </tr>\n",
       "    <tr>\n",
       "      <th>Baker, Allen and Edwards</th>\n",
       "      <td>498032.358445</td>\n",
       "      <td>50.0</td>\n",
       "      <td>999950.0</td>\n",
       "    </tr>\n",
       "    <tr>\n",
       "      <th>Bullock-Carrillo</th>\n",
       "      <td>499603.804865</td>\n",
       "      <td>40.0</td>\n",
       "      <td>999930.0</td>\n",
       "    </tr>\n",
       "    <tr>\n",
       "      <th>Campos, Reynolds and Mccormick</th>\n",
       "      <td>503528.982687</td>\n",
       "      <td>10.0</td>\n",
       "      <td>999970.0</td>\n",
       "    </tr>\n",
       "    <tr>\n",
       "      <th>James and Sons</th>\n",
       "      <td>503581.015754</td>\n",
       "      <td>30.0</td>\n",
       "      <td>999960.0</td>\n",
       "    </tr>\n",
       "    <tr>\n",
       "      <th>Johnston, Fleming and Tanner</th>\n",
       "      <td>500579.128010</td>\n",
       "      <td>10.0</td>\n",
       "      <td>999920.0</td>\n",
       "    </tr>\n",
       "    <tr>\n",
       "      <th>Marshall-Holloway</th>\n",
       "      <td>502314.169445</td>\n",
       "      <td>30.0</td>\n",
       "      <td>999900.0</td>\n",
       "    </tr>\n",
       "    <tr>\n",
       "      <th>Matthews Inc</th>\n",
       "      <td>501640.159488</td>\n",
       "      <td>80.0</td>\n",
       "      <td>999920.0</td>\n",
       "    </tr>\n",
       "    <tr>\n",
       "      <th>Nelson-Li</th>\n",
       "      <td>500569.824558</td>\n",
       "      <td>30.0</td>\n",
       "      <td>999930.0</td>\n",
       "    </tr>\n",
       "    <tr>\n",
       "      <th>Nichols-James</th>\n",
       "      <td>497881.232334</td>\n",
       "      <td>40.0</td>\n",
       "      <td>999950.0</td>\n",
       "    </tr>\n",
       "    <tr>\n",
       "      <th>Scott Inc</th>\n",
       "      <td>500491.809024</td>\n",
       "      <td>20.0</td>\n",
       "      <td>999950.0</td>\n",
       "    </tr>\n",
       "    <tr>\n",
       "      <th>Taylor-Ramos</th>\n",
       "      <td>498747.292516</td>\n",
       "      <td>160.0</td>\n",
       "      <td>999990.0</td>\n",
       "    </tr>\n",
       "    <tr>\n",
       "      <th>Thomas-Spencer</th>\n",
       "      <td>499350.850164</td>\n",
       "      <td>60.0</td>\n",
       "      <td>999980.0</td>\n",
       "    </tr>\n",
       "    <tr>\n",
       "      <th>Wallace, Smith and Shepard</th>\n",
       "      <td>500807.608810</td>\n",
       "      <td>10.0</td>\n",
       "      <td>999950.0</td>\n",
       "    </tr>\n",
       "    <tr>\n",
       "      <th>White, Mcclain and Cobb</th>\n",
       "      <td>499083.493806</td>\n",
       "      <td>0.0</td>\n",
       "      <td>999980.0</td>\n",
       "    </tr>\n",
       "  </tbody>\n",
       "</table>\n",
       "</div>"
      ],
      "text/plain": [
       "                               Employee_Salary                 \n",
       "                                          mean    min       max\n",
       "Company_Name                                                   \n",
       "Andrade LLC                      497237.159385   40.0  999850.0\n",
       "Baker, Allen and Edwards         498032.358445   50.0  999950.0\n",
       "Bullock-Carrillo                 499603.804865   40.0  999930.0\n",
       "Campos, Reynolds and Mccormick   503528.982687   10.0  999970.0\n",
       "James and Sons                   503581.015754   30.0  999960.0\n",
       "Johnston, Fleming and Tanner     500579.128010   10.0  999920.0\n",
       "Marshall-Holloway                502314.169445   30.0  999900.0\n",
       "Matthews Inc                     501640.159488   80.0  999920.0\n",
       "Nelson-Li                        500569.824558   30.0  999930.0\n",
       "Nichols-James                    497881.232334   40.0  999950.0\n",
       "Scott Inc                        500491.809024   20.0  999950.0\n",
       "Taylor-Ramos                     498747.292516  160.0  999990.0\n",
       "Thomas-Spencer                   499350.850164   60.0  999980.0\n",
       "Wallace, Smith and Shepard       500807.608810   10.0  999950.0\n",
       "White, Mcclain and Cobb          499083.493806    0.0  999980.0"
      ]
     },
     "execution_count": 127,
     "metadata": {},
     "output_type": "execute_result"
    }
   ],
   "source": [
    "# Using custom aggregation functions\n",
    "df.groupby('Company_Name').agg({'Employee_Salary': ['mean', 'min', 'max']})"
   ]
  },
  {
   "cell_type": "code",
   "execution_count": 131,
   "id": "0115f235-e6ce-48d5-95d0-0970b0163bd3",
   "metadata": {},
   "outputs": [
    {
     "data": {
      "text/plain": [
       "0                   NaN\n",
       "1                   NaN\n",
       "2         513833.333333\n",
       "3         445460.000000\n",
       "4         423596.333333\n",
       "              ...      \n",
       "299995    232220.000000\n",
       "299996    410506.666667\n",
       "299997    617360.000000\n",
       "299998    669883.333333\n",
       "299999    545280.000000\n",
       "Name: Employee_Salary, Length: 300000, dtype: float64"
      ]
     },
     "execution_count": 131,
     "metadata": {},
     "output_type": "execute_result"
    }
   ],
   "source": [
    "# Applying a rolling function\n",
    "df['Employee_Salary'].rolling(window=3).mean()"
   ]
  },
  {
   "cell_type": "code",
   "execution_count": 137,
   "id": "a9cb756e-0d1f-4a62-9471-0f05888e6151",
   "metadata": {},
   "outputs": [
    {
     "data": {
      "text/html": [
       "<div>\n",
       "<style scoped>\n",
       "    .dataframe tbody tr th:only-of-type {\n",
       "        vertical-align: middle;\n",
       "    }\n",
       "\n",
       "    .dataframe tbody tr th {\n",
       "        vertical-align: top;\n",
       "    }\n",
       "\n",
       "    .dataframe thead th {\n",
       "        text-align: right;\n",
       "    }\n",
       "</style>\n",
       "<table border=\"1\" class=\"dataframe\">\n",
       "  <thead>\n",
       "    <tr style=\"text-align: right;\">\n",
       "      <th></th>\n",
       "      <th>Name</th>\n",
       "    </tr>\n",
       "    <tr>\n",
       "      <th>Company_Name</th>\n",
       "      <th></th>\n",
       "    </tr>\n",
       "  </thead>\n",
       "  <tbody>\n",
       "    <tr>\n",
       "      <th>Andrade LLC</th>\n",
       "      <td>17741</td>\n",
       "    </tr>\n",
       "    <tr>\n",
       "      <th>Baker, Allen and Edwards</th>\n",
       "      <td>17812</td>\n",
       "    </tr>\n",
       "    <tr>\n",
       "      <th>Bullock-Carrillo</th>\n",
       "      <td>17778</td>\n",
       "    </tr>\n",
       "    <tr>\n",
       "      <th>Campos, Reynolds and Mccormick</th>\n",
       "      <td>17545</td>\n",
       "    </tr>\n",
       "    <tr>\n",
       "      <th>James and Sons</th>\n",
       "      <td>17638</td>\n",
       "    </tr>\n",
       "    <tr>\n",
       "      <th>Johnston, Fleming and Tanner</th>\n",
       "      <td>17526</td>\n",
       "    </tr>\n",
       "    <tr>\n",
       "      <th>Marshall-Holloway</th>\n",
       "      <td>17528</td>\n",
       "    </tr>\n",
       "    <tr>\n",
       "      <th>Matthews Inc</th>\n",
       "      <td>17760</td>\n",
       "    </tr>\n",
       "    <tr>\n",
       "      <th>Nelson-Li</th>\n",
       "      <td>17848</td>\n",
       "    </tr>\n",
       "    <tr>\n",
       "      <th>Nichols-James</th>\n",
       "      <td>17680</td>\n",
       "    </tr>\n",
       "    <tr>\n",
       "      <th>Scott Inc</th>\n",
       "      <td>18090</td>\n",
       "    </tr>\n",
       "    <tr>\n",
       "      <th>Taylor-Ramos</th>\n",
       "      <td>17908</td>\n",
       "    </tr>\n",
       "    <tr>\n",
       "      <th>Thomas-Spencer</th>\n",
       "      <td>17842</td>\n",
       "    </tr>\n",
       "    <tr>\n",
       "      <th>Wallace, Smith and Shepard</th>\n",
       "      <td>17188</td>\n",
       "    </tr>\n",
       "    <tr>\n",
       "      <th>White, Mcclain and Cobb</th>\n",
       "      <td>17940</td>\n",
       "    </tr>\n",
       "  </tbody>\n",
       "</table>\n",
       "</div>"
      ],
      "text/plain": [
       "                                 Name\n",
       "Company_Name                         \n",
       "Andrade LLC                     17741\n",
       "Baker, Allen and Edwards        17812\n",
       "Bullock-Carrillo                17778\n",
       "Campos, Reynolds and Mccormick  17545\n",
       "James and Sons                  17638\n",
       "Johnston, Fleming and Tanner    17526\n",
       "Marshall-Holloway               17528\n",
       "Matthews Inc                    17760\n",
       "Nelson-Li                       17848\n",
       "Nichols-James                   17680\n",
       "Scott Inc                       18090\n",
       "Taylor-Ramos                    17908\n",
       "Thomas-Spencer                  17842\n",
       "Wallace, Smith and Shepard      17188\n",
       "White, Mcclain and Cobb         17940"
      ]
     },
     "execution_count": 137,
     "metadata": {},
     "output_type": "execute_result"
    }
   ],
   "source": [
    "# How many unique names exist in the dataset for every company\n",
    "df.groupby(by=['Company_Name']).agg({'Name':'nunique'})"
   ]
  },
  {
   "cell_type": "code",
   "execution_count": 148,
   "id": "9d201c9e-e143-44b1-8901-1df3feab89dd",
   "metadata": {},
   "outputs": [
    {
     "data": {
      "text/html": [
       "<div>\n",
       "<style scoped>\n",
       "    .dataframe tbody tr th:only-of-type {\n",
       "        vertical-align: middle;\n",
       "    }\n",
       "\n",
       "    .dataframe tbody tr th {\n",
       "        vertical-align: top;\n",
       "    }\n",
       "\n",
       "    .dataframe thead th {\n",
       "        text-align: right;\n",
       "    }\n",
       "</style>\n",
       "<table border=\"1\" class=\"dataframe\">\n",
       "  <thead>\n",
       "    <tr style=\"text-align: right;\">\n",
       "      <th></th>\n",
       "      <th>Name</th>\n",
       "      <th>Employee_Job_Title</th>\n",
       "      <th>Employee_City</th>\n",
       "      <th>Employee_Country</th>\n",
       "      <th>Employee_Salary</th>\n",
       "      <th>Employment_Status</th>\n",
       "      <th>Employee_Rating</th>\n",
       "      <th>salary_rank</th>\n",
       "    </tr>\n",
       "    <tr>\n",
       "      <th>Company_Name</th>\n",
       "      <th></th>\n",
       "      <th></th>\n",
       "      <th></th>\n",
       "      <th></th>\n",
       "      <th></th>\n",
       "      <th></th>\n",
       "      <th></th>\n",
       "      <th></th>\n",
       "    </tr>\n",
       "  </thead>\n",
       "  <tbody>\n",
       "    <tr>\n",
       "      <th>Andrade LLC</th>\n",
       "      <td>Vanessa Allen</td>\n",
       "      <td>Make</td>\n",
       "      <td>Ricardomouth</td>\n",
       "      <td>Mali</td>\n",
       "      <td>850140.0</td>\n",
       "      <td>Full Time</td>\n",
       "      <td>2.6</td>\n",
       "      <td>44878.5</td>\n",
       "    </tr>\n",
       "    <tr>\n",
       "      <th>Baker, Allen and Edwards</th>\n",
       "      <td>Theresa Owens</td>\n",
       "      <td>Production engineer</td>\n",
       "      <td>Whiteside</td>\n",
       "      <td>Dominica</td>\n",
       "      <td>523499.0</td>\n",
       "      <td>Full Time</td>\n",
       "      <td>4.8</td>\n",
       "      <td>143160.0</td>\n",
       "    </tr>\n",
       "    <tr>\n",
       "      <th>Bullock-Carrillo</th>\n",
       "      <td>Carrie Woods</td>\n",
       "      <td>Ergonomist</td>\n",
       "      <td>New Russellton</td>\n",
       "      <td>Gabon</td>\n",
       "      <td>985290.0</td>\n",
       "      <td>Full Time</td>\n",
       "      <td>2.4</td>\n",
       "      <td>4282.5</td>\n",
       "    </tr>\n",
       "    <tr>\n",
       "      <th>Campos, Reynolds and Mccormick</th>\n",
       "      <td>Michael Edwards</td>\n",
       "      <td>Ergonomist</td>\n",
       "      <td>New Cindychester</td>\n",
       "      <td>Lao People's Democratic Republic</td>\n",
       "      <td>516950.0</td>\n",
       "      <td>Full Time</td>\n",
       "      <td>2.3</td>\n",
       "      <td>145194.0</td>\n",
       "    </tr>\n",
       "    <tr>\n",
       "      <th>James and Sons</th>\n",
       "      <td>Spencer Adkins</td>\n",
       "      <td>Equities trader</td>\n",
       "      <td>New Russellton</td>\n",
       "      <td>Palestinian Territory</td>\n",
       "      <td>321520.0</td>\n",
       "      <td>Full Time</td>\n",
       "      <td>3.9</td>\n",
       "      <td>203737.5</td>\n",
       "    </tr>\n",
       "    <tr>\n",
       "      <th>Johnston, Fleming and Tanner</th>\n",
       "      <td>Brad Scott</td>\n",
       "      <td>Production engineer</td>\n",
       "      <td>West Jamesview</td>\n",
       "      <td>Syrian Arab Republic</td>\n",
       "      <td>116400.0</td>\n",
       "      <td>Full Time</td>\n",
       "      <td>3.1</td>\n",
       "      <td>265264.0</td>\n",
       "    </tr>\n",
       "    <tr>\n",
       "      <th>Marshall-Holloway</th>\n",
       "      <td>David Phillips</td>\n",
       "      <td>Radiographer, therapeutic</td>\n",
       "      <td>Kristaburgh</td>\n",
       "      <td>British Virgin Islands</td>\n",
       "      <td>58800.0</td>\n",
       "      <td>Full Time</td>\n",
       "      <td>0.6</td>\n",
       "      <td>282369.5</td>\n",
       "    </tr>\n",
       "    <tr>\n",
       "      <th>Matthews Inc</th>\n",
       "      <td>Vicki Beard</td>\n",
       "      <td>Diplomatic Services operational officer</td>\n",
       "      <td>Kristaburgh</td>\n",
       "      <td>Western Sahara</td>\n",
       "      <td>777000.0</td>\n",
       "      <td>Full Time</td>\n",
       "      <td>3.3</td>\n",
       "      <td>66870.5</td>\n",
       "    </tr>\n",
       "    <tr>\n",
       "      <th>Nelson-Li</th>\n",
       "      <td>Micheal Fitzgerald</td>\n",
       "      <td>Diplomatic Services operational officer</td>\n",
       "      <td>Whitakerbury</td>\n",
       "      <td>Switzerland</td>\n",
       "      <td>796690.0</td>\n",
       "      <td>Full Time</td>\n",
       "      <td>4.1</td>\n",
       "      <td>60945.5</td>\n",
       "    </tr>\n",
       "    <tr>\n",
       "      <th>Nichols-James</th>\n",
       "      <td>Julie Morton</td>\n",
       "      <td>Diplomatic Services operational officer</td>\n",
       "      <td>North Melissafurt</td>\n",
       "      <td>Marshall Islands</td>\n",
       "      <td>589090.0</td>\n",
       "      <td>Full Time</td>\n",
       "      <td>4.3</td>\n",
       "      <td>123387.5</td>\n",
       "    </tr>\n",
       "    <tr>\n",
       "      <th>Scott Inc</th>\n",
       "      <td>Matthew Hall</td>\n",
       "      <td>Regulatory affairs officer</td>\n",
       "      <td>Wardfort</td>\n",
       "      <td>Anguilla</td>\n",
       "      <td>630890.0</td>\n",
       "      <td>Full Time</td>\n",
       "      <td>3.1</td>\n",
       "      <td>110786.0</td>\n",
       "    </tr>\n",
       "    <tr>\n",
       "      <th>Taylor-Ramos</th>\n",
       "      <td>Lisa French</td>\n",
       "      <td>Radiographer, therapeutic</td>\n",
       "      <td>West Jamesview</td>\n",
       "      <td>Kuwait</td>\n",
       "      <td>870580.0</td>\n",
       "      <td>Full Time</td>\n",
       "      <td>1.3</td>\n",
       "      <td>38802.5</td>\n",
       "    </tr>\n",
       "    <tr>\n",
       "      <th>Thomas-Spencer</th>\n",
       "      <td>Gail Rose</td>\n",
       "      <td>Patent examiner</td>\n",
       "      <td>Whitakerbury</td>\n",
       "      <td>Finland</td>\n",
       "      <td>178570.0</td>\n",
       "      <td>Full Time</td>\n",
       "      <td>1.9</td>\n",
       "      <td>246642.5</td>\n",
       "    </tr>\n",
       "    <tr>\n",
       "      <th>Wallace, Smith and Shepard</th>\n",
       "      <td>Ronald Clark</td>\n",
       "      <td>Regulatory affairs officer</td>\n",
       "      <td>North Melissafurt</td>\n",
       "      <td>Palau</td>\n",
       "      <td>914110.0</td>\n",
       "      <td>Full Time</td>\n",
       "      <td>3.2</td>\n",
       "      <td>25640.0</td>\n",
       "    </tr>\n",
       "    <tr>\n",
       "      <th>White, Mcclain and Cobb</th>\n",
       "      <td>Victoria Sutton</td>\n",
       "      <td>Naval architect</td>\n",
       "      <td>Whiteside</td>\n",
       "      <td>Poland</td>\n",
       "      <td>656260.0</td>\n",
       "      <td>Full Time</td>\n",
       "      <td>4.9</td>\n",
       "      <td>103080.0</td>\n",
       "    </tr>\n",
       "  </tbody>\n",
       "</table>\n",
       "</div>"
      ],
      "text/plain": [
       "                                              Name  \\\n",
       "Company_Name                                         \n",
       "Andrade LLC                          Vanessa Allen   \n",
       "Baker, Allen and Edwards             Theresa Owens   \n",
       "Bullock-Carrillo                      Carrie Woods   \n",
       "Campos, Reynolds and Mccormick     Michael Edwards   \n",
       "James and Sons                      Spencer Adkins   \n",
       "Johnston, Fleming and Tanner            Brad Scott   \n",
       "Marshall-Holloway                   David Phillips   \n",
       "Matthews Inc                           Vicki Beard   \n",
       "Nelson-Li                       Micheal Fitzgerald   \n",
       "Nichols-James                         Julie Morton   \n",
       "Scott Inc                             Matthew Hall   \n",
       "Taylor-Ramos                           Lisa French   \n",
       "Thomas-Spencer                           Gail Rose   \n",
       "Wallace, Smith and Shepard            Ronald Clark   \n",
       "White, Mcclain and Cobb            Victoria Sutton   \n",
       "\n",
       "                                                     Employee_Job_Title  \\\n",
       "Company_Name                                                              \n",
       "Andrade LLC                                                        Make   \n",
       "Baker, Allen and Edwards                            Production engineer   \n",
       "Bullock-Carrillo                                             Ergonomist   \n",
       "Campos, Reynolds and Mccormick                               Ergonomist   \n",
       "James and Sons                                          Equities trader   \n",
       "Johnston, Fleming and Tanner                        Production engineer   \n",
       "Marshall-Holloway                             Radiographer, therapeutic   \n",
       "Matthews Inc                    Diplomatic Services operational officer   \n",
       "Nelson-Li                       Diplomatic Services operational officer   \n",
       "Nichols-James                   Diplomatic Services operational officer   \n",
       "Scott Inc                                    Regulatory affairs officer   \n",
       "Taylor-Ramos                                  Radiographer, therapeutic   \n",
       "Thomas-Spencer                                          Patent examiner   \n",
       "Wallace, Smith and Shepard                   Regulatory affairs officer   \n",
       "White, Mcclain and Cobb                                 Naval architect   \n",
       "\n",
       "                                    Employee_City  \\\n",
       "Company_Name                                        \n",
       "Andrade LLC                          Ricardomouth   \n",
       "Baker, Allen and Edwards                Whiteside   \n",
       "Bullock-Carrillo                   New Russellton   \n",
       "Campos, Reynolds and Mccormick   New Cindychester   \n",
       "James and Sons                     New Russellton   \n",
       "Johnston, Fleming and Tanner       West Jamesview   \n",
       "Marshall-Holloway                     Kristaburgh   \n",
       "Matthews Inc                          Kristaburgh   \n",
       "Nelson-Li                            Whitakerbury   \n",
       "Nichols-James                   North Melissafurt   \n",
       "Scott Inc                                Wardfort   \n",
       "Taylor-Ramos                       West Jamesview   \n",
       "Thomas-Spencer                       Whitakerbury   \n",
       "Wallace, Smith and Shepard      North Melissafurt   \n",
       "White, Mcclain and Cobb                 Whiteside   \n",
       "\n",
       "                                                Employee_Country  \\\n",
       "Company_Name                                                       \n",
       "Andrade LLC                                                 Mali   \n",
       "Baker, Allen and Edwards                                Dominica   \n",
       "Bullock-Carrillo                                           Gabon   \n",
       "Campos, Reynolds and Mccormick  Lao People's Democratic Republic   \n",
       "James and Sons                             Palestinian Territory   \n",
       "Johnston, Fleming and Tanner                Syrian Arab Republic   \n",
       "Marshall-Holloway                         British Virgin Islands   \n",
       "Matthews Inc                                      Western Sahara   \n",
       "Nelson-Li                                            Switzerland   \n",
       "Nichols-James                                   Marshall Islands   \n",
       "Scott Inc                                               Anguilla   \n",
       "Taylor-Ramos                                              Kuwait   \n",
       "Thomas-Spencer                                           Finland   \n",
       "Wallace, Smith and Shepard                                 Palau   \n",
       "White, Mcclain and Cobb                                   Poland   \n",
       "\n",
       "                                Employee_Salary Employment_Status  \\\n",
       "Company_Name                                                        \n",
       "Andrade LLC                            850140.0         Full Time   \n",
       "Baker, Allen and Edwards               523499.0         Full Time   \n",
       "Bullock-Carrillo                       985290.0         Full Time   \n",
       "Campos, Reynolds and Mccormick         516950.0         Full Time   \n",
       "James and Sons                         321520.0         Full Time   \n",
       "Johnston, Fleming and Tanner           116400.0         Full Time   \n",
       "Marshall-Holloway                       58800.0         Full Time   \n",
       "Matthews Inc                           777000.0         Full Time   \n",
       "Nelson-Li                              796690.0         Full Time   \n",
       "Nichols-James                          589090.0         Full Time   \n",
       "Scott Inc                              630890.0         Full Time   \n",
       "Taylor-Ramos                           870580.0         Full Time   \n",
       "Thomas-Spencer                         178570.0         Full Time   \n",
       "Wallace, Smith and Shepard             914110.0         Full Time   \n",
       "White, Mcclain and Cobb                656260.0         Full Time   \n",
       "\n",
       "                                Employee_Rating  salary_rank  \n",
       "Company_Name                                                  \n",
       "Andrade LLC                                 2.6      44878.5  \n",
       "Baker, Allen and Edwards                    4.8     143160.0  \n",
       "Bullock-Carrillo                            2.4       4282.5  \n",
       "Campos, Reynolds and Mccormick              2.3     145194.0  \n",
       "James and Sons                              3.9     203737.5  \n",
       "Johnston, Fleming and Tanner                3.1     265264.0  \n",
       "Marshall-Holloway                           0.6     282369.5  \n",
       "Matthews Inc                                3.3      66870.5  \n",
       "Nelson-Li                                   4.1      60945.5  \n",
       "Nichols-James                               4.3     123387.5  \n",
       "Scott Inc                                   3.1     110786.0  \n",
       "Taylor-Ramos                                1.3      38802.5  \n",
       "Thomas-Spencer                              1.9     246642.5  \n",
       "Wallace, Smith and Shepard                  3.2      25640.0  \n",
       "White, Mcclain and Cobb                     4.9     103080.0  "
      ]
     },
     "execution_count": 148,
     "metadata": {},
     "output_type": "execute_result"
    }
   ],
   "source": [
    "# Select the first row corresponding to every company in the dataframe\n",
    "df.groupby(by=['Company_Name']).first()"
   ]
  },
  {
   "cell_type": "code",
   "execution_count": 166,
   "id": "76112e7e-fd84-4c2d-aa3d-c9d0e160a898",
   "metadata": {},
   "outputs": [
    {
     "data": {
      "text/plain": [
       "0         Medium\n",
       "1         Medium\n",
       "2           High\n",
       "3            Low\n",
       "4         Medium\n",
       "           ...  \n",
       "299995       Low\n",
       "299996      High\n",
       "299997      High\n",
       "299998       Low\n",
       "299999    Medium\n",
       "Name: Employee_Salary, Length: 300000, dtype: object"
      ]
     },
     "execution_count": 166,
     "metadata": {},
     "output_type": "execute_result"
    }
   ],
   "source": [
    "# Define a function to map salary to categories\n",
    "def categorize_salary(salary):\n",
    "    if salary >= 600000:\n",
    "        return 'High'\n",
    "    elif 300000 < salary < 600000:\n",
    "        return 'Medium'\n",
    "    else:\n",
    "        return 'Low'\n",
    "\n",
    "# Apply the function to the 'Employee_Salary' column\n",
    "df['Employee_Salary'].apply(categorize_salary)"
   ]
  },
  {
   "cell_type": "code",
   "execution_count": 171,
   "id": "45eba3bd-7e0d-49e0-8821-902e44d1a59e",
   "metadata": {},
   "outputs": [
    {
     "data": {
      "text/plain": [
       "array([0, 1, 2, ..., 1, 1, 0], dtype=int64)"
      ]
     },
     "execution_count": 171,
     "metadata": {},
     "output_type": "execute_result"
    }
   ],
   "source": [
    "# Map every Company_Name to a unique integer value. Name the new column \"Company_ID\". \n",
    "df['Company_Name'].factorize()[0]"
   ]
  },
  {
   "cell_type": "code",
   "execution_count": 175,
   "id": "657041dc-cfee-4826-b7dc-7fa7f4fda547",
   "metadata": {},
   "outputs": [
    {
     "data": {
      "text/plain": [
       "0.25    250000.0\n",
       "0.50    500780.0\n",
       "0.75    749710.0\n",
       "Name: Employee_Salary, dtype: float64"
      ]
     },
     "execution_count": 175,
     "metadata": {},
     "output_type": "execute_result"
    }
   ],
   "source": [
    "# print 25th, 50th, 75th percentile\n",
    "df['Employee_Salary'].quantile([0.25,0.5,0.75])"
   ]
  },
  {
   "cell_type": "code",
   "execution_count": 176,
   "id": "a586908d-6429-41f7-a0e2-4a2dadf79e9d",
   "metadata": {},
   "outputs": [
    {
     "data": {
      "text/plain": [
       "0         (299997.0, 399996.0]\n",
       "1         (499995.0, 599994.0]\n",
       "2         (599994.0, 699993.0]\n",
       "3          (99999.0, 199998.0]\n",
       "4         (499995.0, 599994.0]\n",
       "                  ...         \n",
       "299995      (-999.99, 99999.0]\n",
       "299996    (899991.0, 999990.0]\n",
       "299997    (799992.0, 899991.0]\n",
       "299998    (199998.0, 299997.0]\n",
       "299999    (499995.0, 599994.0]\n",
       "Name: Employee_Salary, Length: 300000, dtype: category\n",
       "Categories (10, interval[float64, right]): [(-999.99, 99999.0] < (99999.0, 199998.0] < (199998.0, 299997.0] < (299997.0, 399996.0] ... (599994.0, 699993.0] < (699993.0, 799992.0] < (799992.0, 899991.0] < (899991.0, 999990.0]]"
      ]
     },
     "execution_count": 176,
     "metadata": {},
     "output_type": "execute_result"
    }
   ],
   "source": [
    "# Distribute the 'Employee_Salary' column into 10 equal-sized bins\n",
    "pd.cut(df['Employee_Salary'], bins=10)"
   ]
  },
  {
   "cell_type": "code",
   "execution_count": null,
   "id": "cd18ff81-00d2-4220-a054-14d25bc9eb77",
   "metadata": {},
   "outputs": [],
   "source": [
    "# Sort DataFrame based on another list\n",
    "df['Company_Name'].map(lambda x: order_list.index(x))"
   ]
  },
  {
   "cell_type": "code",
   "execution_count": 1,
   "id": "45a663fe-32b1-4c54-a41f-fa31af8e8994",
   "metadata": {},
   "outputs": [
    {
     "ename": "NameError",
     "evalue": "name 'df' is not defined",
     "output_type": "error",
     "traceback": [
      "\u001b[1;31m---------------------------------------------------------------------------\u001b[0m",
      "\u001b[1;31mNameError\u001b[0m                                 Traceback (most recent call last)",
      "Cell \u001b[1;32mIn[1], line 1\u001b[0m\n\u001b[1;32m----> 1\u001b[0m \u001b[43mdf\u001b[49m\u001b[38;5;241m.\u001b[39mnotnull()\u001b[38;5;241m.\u001b[39msum()\n",
      "\u001b[1;31mNameError\u001b[0m: name 'df' is not defined"
     ]
    }
   ],
   "source": [
    "df.notnull().sum()"
   ]
  },
  {
   "cell_type": "code",
   "execution_count": 6,
   "id": "11a7e584-7491-414c-86e9-1d8a705ea5d3",
   "metadata": {},
   "outputs": [
    {
     "data": {
      "text/plain": [
       "0               321520\n",
       "1               910610\n",
       "2              1541500\n",
       "3              1657900\n",
       "4              2181399\n",
       "              ...     \n",
       "299995    150064676898\n",
       "299996    150065626478\n",
       "299997    150066429308\n",
       "299998    150066686548\n",
       "299999    150067262318\n",
       "Name: Employee_Salary, Length: 300000, dtype: int64"
      ]
     },
     "execution_count": 6,
     "metadata": {},
     "output_type": "execute_result"
    }
   ],
   "source": [
    "# cumulative sum\n",
    "df['Employee_Salary'].cumsum()"
   ]
  },
  {
   "cell_type": "code",
   "execution_count": null,
   "id": "07345267-bacd-4e77-8cac-02bd134bd7d6",
   "metadata": {},
   "outputs": [],
   "source": [
    "# Fill NaN values in each column with the mean of that column\n",
    "df_filled = df.fillna(df.mean())"
   ]
  },
  {
   "cell_type": "code",
   "execution_count": null,
   "id": "040a5c94-77c3-42f5-b815-438f569b2bf6",
   "metadata": {},
   "outputs": [],
   "source": [
    "# Sort the DataFrame based on 'col_A' ascending and 'col_B' descending\n",
    "sorted_df = df.sort_values(by=['col_A', 'col_B'], ascending=[True, False])"
   ]
  },
  {
   "cell_type": "code",
   "execution_count": 8,
   "id": "0590e4e5-8143-4486-bb5a-b2401ec00648",
   "metadata": {},
   "outputs": [
    {
     "data": {
      "text/plain": [
       "Company_Name                   \n",
       "Andrade LLC              5         26.0\n",
       "                         6         20.0\n",
       "                         20        22.0\n",
       "                         90         2.0\n",
       "                         119       47.0\n",
       "                                   ... \n",
       "White, Mcclain and Cobb  299949    19.0\n",
       "                         299963    22.0\n",
       "                         299972    23.0\n",
       "                         299993    23.0\n",
       "                         299994    36.0\n",
       "Name: Employee_Rating, Length: 300000, dtype: float64"
      ]
     },
     "execution_count": 8,
     "metadata": {},
     "output_type": "execute_result"
    }
   ],
   "source": [
    "# GroupBy col_A, then compute a new column as (10*col_B/col_C)\n",
    "df.groupby(by=['Company_Name']).apply(lambda x: 10*x['Employee_Rating'])"
   ]
  },
  {
   "cell_type": "code",
   "execution_count": 16,
   "id": "4b931ff7-c7ee-4129-b4ab-6752eabb5e58",
   "metadata": {},
   "outputs": [
    {
     "data": {
      "text/plain": [
       "{'a': 0,\n",
       " 'b': 1,\n",
       " 'c': 2,\n",
       " 'e': 3,\n",
       " 'd': 4,\n",
       " 'f': 5,\n",
       " 'g': 6,\n",
       " 'h': 7,\n",
       " 'i': 8,\n",
       " 'j': 9,\n",
       " 'k': 10,\n",
       " 'l': 11,\n",
       " 'm': 12,\n",
       " 'n': 13,\n",
       " 'o': 14,\n",
       " 'p': 15,\n",
       " 'q': 16,\n",
       " 'r': 17,\n",
       " 's': 18,\n",
       " 't': 19,\n",
       " 'u': 20,\n",
       " 'v': 21,\n",
       " 'w': 22,\n",
       " 'x': 23,\n",
       " 'y': 24,\n",
       " 'z': 25}"
      ]
     },
     "execution_count": 16,
     "metadata": {},
     "output_type": "execute_result"
    }
   ],
   "source": [
    "mylist = list('abcedfghijklmnopqrstuvwxyz')\n",
    "myarr = np.arange(26)\n",
    "dict(zip(mylist, myarr))"
   ]
  }
 ],
 "metadata": {
  "kernelspec": {
   "display_name": "Python 3 (ipykernel)",
   "language": "python",
   "name": "python3"
  },
  "language_info": {
   "codemirror_mode": {
    "name": "ipython",
    "version": 3
   },
   "file_extension": ".py",
   "mimetype": "text/x-python",
   "name": "python",
   "nbconvert_exporter": "python",
   "pygments_lexer": "ipython3",
   "version": "3.11.5"
  }
 },
 "nbformat": 4,
 "nbformat_minor": 5
}
